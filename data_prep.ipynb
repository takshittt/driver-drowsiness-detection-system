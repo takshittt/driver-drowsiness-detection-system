{
 "cells": [
  {
   "cell_type": "code",
   "execution_count": 1,
   "id": "969b0b6f",
   "metadata": {},
   "outputs": [],
   "source": [
    "import os\n",
    "import shutil\n",
    "import glob\n",
    "from tqdm import tqdm\n",
    "import random"
   ]
  },
  {
   "cell_type": "code",
   "execution_count": 2,
   "id": "c691d39a",
   "metadata": {},
   "outputs": [
    {
     "name": "stderr",
     "output_type": "stream",
     "text": [
      "0it [00:00, ?it/s]\n",
      "0it [00:00, ?it/s]\n",
      "0it [00:00, ?it/s]\n",
      "0it [00:00, ?it/s]\n",
      "0it [00:00, ?it/s]\n",
      "0it [00:00, ?it/s]\n",
      "0it [00:00, ?it/s]\n",
      "0it [00:00, ?it/s]\n",
      "0it [00:00, ?it/s]\n",
      "0it [00:00, ?it/s]\n",
      "100%|██████████████████████████████████████| 1384/1384 [00:01<00:00, 734.32it/s]\n",
      "100%|████████████████████████████████████| 10257/10257 [00:12<00:00, 801.19it/s]\n",
      "100%|████████████████████████████████████████| 832/832 [00:00<00:00, 898.31it/s]\n",
      "100%|██████████████████████████████████████| 3242/3242 [00:03<00:00, 859.36it/s]\n",
      "100%|██████████████████████████████████████| 1012/1012 [00:01<00:00, 856.13it/s]\n",
      "100%|████████████████████████████████████████| 624/624 [00:00<00:00, 952.13it/s]\n",
      "100%|██████████████████████████████████████| 6193/6193 [00:06<00:00, 895.87it/s]\n",
      "100%|████████████████████████████████████████| 387/387 [00:00<00:00, 962.42it/s]\n",
      "100%|██████████████████████████████████████| 1738/1738 [00:01<00:00, 886.58it/s]\n",
      "100%|██████████████████████████████████████| 3605/3605 [00:04<00:00, 895.28it/s]\n",
      "100%|██████████████████████████████████████| 8884/8884 [00:10<00:00, 869.11it/s]\n",
      "100%|███████████████████████████████████████| 382/382 [00:00<00:00, 1076.56it/s]\n",
      "100%|██████████████████████████████████████| 1502/1502 [00:01<00:00, 967.59it/s]\n",
      "100%|████████████████████████████████████████| 752/752 [00:00<00:00, 872.77it/s]\n",
      "100%|████████████████████████████████████████| 522/522 [00:00<00:00, 925.42it/s]\n",
      "100%|██████████████████████████████████████| 1132/1132 [00:01<00:00, 905.94it/s]\n",
      "100%|██████████████████████████████████████| 8728/8728 [00:10<00:00, 840.57it/s]\n",
      "100%|████████████████████████████████████████| 739/739 [00:00<00:00, 823.28it/s]\n",
      "100%|████████████████████████████████████████| 681/681 [00:00<00:00, 892.83it/s]\n",
      "100%|████████████████████████████████████████| 736/736 [00:00<00:00, 841.24it/s]\n",
      "100%|██████████████████████████████████████| 1114/1114 [00:01<00:00, 908.39it/s]\n",
      "100%|████████████████████████████████████████| 679/679 [00:00<00:00, 881.91it/s]\n",
      "100%|██████████████████████████████████████| 1069/1069 [00:01<00:00, 886.18it/s]\n",
      "100%|██████████████████████████████████████| 6162/6162 [00:07<00:00, 823.67it/s]\n",
      "100%|████████████████████████████████████████| 642/642 [00:00<00:00, 848.88it/s]\n",
      "100%|████████████████████████████████████████| 736/736 [00:00<00:00, 851.65it/s]\n",
      "100%|██████████████████████████████████████| 1648/1648 [00:01<00:00, 918.46it/s]\n",
      "100%|████████████████████████████████████████| 399/399 [00:00<00:00, 866.93it/s]\n",
      "100%|██████████████████████████████████████| 6175/6175 [00:07<00:00, 831.53it/s]\n",
      "100%|██████████████████████████████████████| 1246/1246 [00:01<00:00, 847.34it/s]\n",
      "100%|████████████████████████████████████████| 987/987 [00:01<00:00, 765.15it/s]\n",
      "100%|████████████████████████████████████████| 704/704 [00:00<00:00, 907.65it/s]\n",
      "100%|██████████████████████████████████████| 4410/4410 [00:05<00:00, 744.92it/s]\n",
      "100%|████████████████████████████████████████| 665/665 [00:00<00:00, 758.57it/s]\n",
      "100%|██████████████████████████████████████| 1648/1648 [00:02<00:00, 810.56it/s]\n",
      "100%|██████████████████████████████████████| 1393/1393 [00:01<00:00, 807.80it/s]\n",
      "100%|██████████████████████████████████████| 1889/1889 [00:02<00:00, 800.87it/s]\n",
      "0it [00:00, ?it/s]\n"
     ]
    }
   ],
   "source": [
    "raw_data = '/Users/takshitsaini/Downloads/driver_drowsiness_system'\n",
    "for dirpath, dirname, filename in os.walk(raw_data):\n",
    "    for file in tqdm([f for f in filename if f.endswith('.png')]):\n",
    "        if file.split('_')[4] == '0':\n",
    "            path='/Users/takshitsaini/Downloads/driver_drowsiness_system/Prepared_Data/Close_Eyes'\n",
    "            if not os.path.exists(path):\n",
    "                os.makedirs(path)\n",
    "            shutil.copy(src=dirpath + '/' + file, dst= path)\n",
    "        elif file.split('_')[4] == '1':\n",
    "            path='/Users/takshitsaini/Downloads/driver_drowsiness_system/Prepared_Data/Open_Eyes'\n",
    "            if not os.path.exists(path):\n",
    "                os.makedirs(path)\n",
    "            shutil.copy(src=dirpath + '/' + file, dst= path) "
   ]
  },
  {
   "cell_type": "code",
   "execution_count": 3,
   "id": "4a9799d8",
   "metadata": {},
   "outputs": [],
   "source": [
    "def create_test_closed(source, destination, percent):\n",
    "    path, dirs, files_closed = next(os.walk(source))\n",
    "    file_count_closed = len(files_closed)\n",
    "    percentage = file_count_closed * percent\n",
    "    to_move = random.sample(glob.glob(source + \"/*.png\"), int(percentage))\n",
    "\n",
    "    for f in enumerate(to_move):\n",
    "        if not os.path.exists(destination):\n",
    "            os.makedirs(destination)\n",
    "        shutil.move(f[1], destination)\n",
    "    print(f'moved {int(percentage)} images moved successfully.') "
   ]
  },
  {
   "cell_type": "code",
   "execution_count": 4,
   "id": "5a334b50",
   "metadata": {},
   "outputs": [],
   "source": [
    "def create_test_open(source, destination, percent):\n",
    "    path, dirs, files_open = next(os.walk(source))\n",
    "    file_count_open = len(files_open)\n",
    "    percentage = file_count_open * percent\n",
    "    to_move = random.sample(glob.glob(source + \"/*.png\"), int(percentage))\n",
    "\n",
    "    for f in enumerate(to_move):\n",
    "        if not os.path.exists(destination):\n",
    "            os.makedirs(destination)\n",
    "        shutil.move(f[1], destination)\n",
    "    print(f'moved {int(percentage)} images moved successfully.')"
   ]
  },
  {
   "cell_type": "code",
   "execution_count": 5,
   "id": "0487a3dd",
   "metadata": {
    "scrolled": true
   },
   "outputs": [
    {
     "name": "stdout",
     "output_type": "stream",
     "text": [
      "moved 8389 images moved successfully.\n"
     ]
    }
   ],
   "source": [
    "create_test_closed('/Users/takshitsaini/Downloads/driver_drowsiness_system/Prepared_Data/Close_Eyes', \n",
    "                    '/Users/takshitsaini/Downloads/driver_drowsiness_system/Prepared_Data/test/close', \n",
    "                    0.2)\n"
   ]
  },
  {
   "cell_type": "code",
   "execution_count": 6,
   "id": "472ce553",
   "metadata": {},
   "outputs": [
    {
     "name": "stdout",
     "output_type": "stream",
     "text": [
      "moved 6711 images moved successfully.\n"
     ]
    }
   ],
   "source": [
    "create_test_closed('/Users/takshitsaini/Downloads/driver_drowsiness_system/Prepared_Data/Close_Eyes', \n",
    "                    '/Users/takshitsaini/Downloads/driver_drowsiness_system/Prepared_Data/train/close', \n",
    "                    0.2)\n"
   ]
  },
  {
   "cell_type": "code",
   "execution_count": 7,
   "id": "05f79aa8",
   "metadata": {
    "scrolled": true
   },
   "outputs": [
    {
     "name": "stdout",
     "output_type": "stream",
     "text": [
      "moved 8590 images moved successfully.\n"
     ]
    }
   ],
   "source": [
    "create_test_open('/Users/takshitsaini/Downloads/driver_drowsiness_system/Prepared_Data/Open_Eyes', \n",
    "                    '/Users/takshitsaini/Downloads/driver_drowsiness_system/Prepared_Data/test/open', \n",
    "                    0.2)"
   ]
  },
  {
   "cell_type": "code",
   "execution_count": 8,
   "id": "4d671f6d",
   "metadata": {},
   "outputs": [
    {
     "name": "stdout",
     "output_type": "stream",
     "text": [
      "moved 5369 images moved successfully.\n"
     ]
    }
   ],
   "source": [
    "create_test_closed('/Users/takshitsaini/Downloads/driver_drowsiness_system/Prepared_Data/Close_Eyes', \n",
    "                    '/Users/takshitsaini/Downloads/driver_drowsiness_system/Prepared_Data/train/close', \n",
    "                    0.2)\n"
   ]
  },
  {
   "cell_type": "code",
   "execution_count": null,
   "id": "c216c0b4",
   "metadata": {},
   "outputs": [],
   "source": []
  }
 ],
 "metadata": {
  "kernelspec": {
   "display_name": "Python 3 (ipykernel)",
   "language": "python",
   "name": "python3"
  },
  "language_info": {
   "codemirror_mode": {
    "name": "ipython",
    "version": 3
   },
   "file_extension": ".py",
   "mimetype": "text/x-python",
   "name": "python",
   "nbconvert_exporter": "python",
   "pygments_lexer": "ipython3",
   "version": "3.11.4"
  }
 },
 "nbformat": 4,
 "nbformat_minor": 5
}
